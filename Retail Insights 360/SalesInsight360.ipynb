{
 "cells": [
  {
   "cell_type": "markdown",
   "id": "62176aca-34f8-4577-9de5-7f18a19c65a6",
   "metadata": {},
   "source": [
    "# Import Sales Dataset"
   ]
  },
  {
   "cell_type": "code",
   "execution_count": 1,
   "id": "1c1a001b-7ef6-489c-b90b-8e071d2fb43d",
   "metadata": {},
   "outputs": [
    {
     "data": {
      "text/html": [
       "<table>\n",
       "<thead><tr><th scope=col>X</th><th scope=col>Order.ID</th><th scope=col>Product</th><th scope=col>Quantity.Ordered</th><th scope=col>Price.Each</th><th scope=col>Order.Date</th><th scope=col>Purchase.Address</th><th scope=col>Month</th><th scope=col>Sales</th><th scope=col>City</th><th scope=col>Hour</th></tr></thead>\n",
       "<tbody>\n",
       "\t<tr><td>0                                        </td><td>295665                                   </td><td>Macbook Pro Laptop                       </td><td>1                                        </td><td>1700.00                                  </td><td>2019-12-30 00:01:00                      </td><td>136 Church St, New York City, NY 10001   </td><td>12                                       </td><td>1700.00                                  </td><td> New York City                           </td><td> 0                                       </td></tr>\n",
       "\t<tr><td>1                                        </td><td>295666                                   </td><td>LG Washing Machine                       </td><td>1                                        </td><td> 600.00                                  </td><td>2019-12-29 07:03:00                      </td><td>562 2nd St, New York City, NY 10001      </td><td>12                                       </td><td> 600.00                                  </td><td> New York City                           </td><td> 7                                       </td></tr>\n",
       "\t<tr><td>2                                        </td><td>295667                                   </td><td>USB-C Charging Cable                     </td><td>1                                        </td><td>  11.95                                  </td><td>2019-12-12 18:21:00                      </td><td>277 Main St, New York City, NY 10001     </td><td>12                                       </td><td>  11.95                                  </td><td> New York City                           </td><td>18                                       </td></tr>\n",
       "\t<tr><td>3                                        </td><td>295668                                   </td><td>27in FHD Monitor                         </td><td>1                                        </td><td> 149.99                                  </td><td>2019-12-22 15:13:00                      </td><td>410 6th St, San Francisco, CA 94016      </td><td>12                                       </td><td> 149.99                                  </td><td> San Francisco                           </td><td>15                                       </td></tr>\n",
       "\t<tr><td>4                                        </td><td>295669                                   </td><td>USB-C Charging Cable                     </td><td>1                                        </td><td>  11.95                                  </td><td>2019-12-18 12:38:00                      </td><td>43 Hill St, Atlanta, GA 30301            </td><td>12                                       </td><td>  11.95                                  </td><td> Atlanta                                 </td><td>12                                       </td></tr>\n",
       "\t<tr><td>5                                        </td><td>295670                                   </td><td>AA Batteries (4-pack)                    </td><td>1                                        </td><td>   3.84                                  </td><td>2019-12-31 22:58:00                      </td><td>200 Jefferson St, New York City, NY 10001</td><td>12                                       </td><td>   3.84                                  </td><td> New York City                           </td><td>22                                       </td></tr>\n",
       "</tbody>\n",
       "</table>\n"
      ],
      "text/latex": [
       "\\begin{tabular}{r|lllllllllll}\n",
       " X & Order.ID & Product & Quantity.Ordered & Price.Each & Order.Date & Purchase.Address & Month & Sales & City & Hour\\\\\n",
       "\\hline\n",
       "\t 0                                         & 295665                                    & Macbook Pro Laptop                        & 1                                         & 1700.00                                   & 2019-12-30 00:01:00                       & 136 Church St, New York City, NY 10001    & 12                                        & 1700.00                                   &  New York City                            &  0                                       \\\\\n",
       "\t 1                                         & 295666                                    & LG Washing Machine                        & 1                                         &  600.00                                   & 2019-12-29 07:03:00                       & 562 2nd St, New York City, NY 10001       & 12                                        &  600.00                                   &  New York City                            &  7                                       \\\\\n",
       "\t 2                                         & 295667                                    & USB-C Charging Cable                      & 1                                         &   11.95                                   & 2019-12-12 18:21:00                       & 277 Main St, New York City, NY 10001      & 12                                        &   11.95                                   &  New York City                            & 18                                       \\\\\n",
       "\t 3                                         & 295668                                    & 27in FHD Monitor                          & 1                                         &  149.99                                   & 2019-12-22 15:13:00                       & 410 6th St, San Francisco, CA 94016       & 12                                        &  149.99                                   &  San Francisco                            & 15                                       \\\\\n",
       "\t 4                                         & 295669                                    & USB-C Charging Cable                      & 1                                         &   11.95                                   & 2019-12-18 12:38:00                       & 43 Hill St, Atlanta, GA 30301             & 12                                        &   11.95                                   &  Atlanta                                  & 12                                       \\\\\n",
       "\t 5                                         & 295670                                    & AA Batteries (4-pack)                     & 1                                         &    3.84                                   & 2019-12-31 22:58:00                       & 200 Jefferson St, New York City, NY 10001 & 12                                        &    3.84                                   &  New York City                            & 22                                       \\\\\n",
       "\\end{tabular}\n"
      ],
      "text/markdown": [
       "\n",
       "| X | Order.ID | Product | Quantity.Ordered | Price.Each | Order.Date | Purchase.Address | Month | Sales | City | Hour |\n",
       "|---|---|---|---|---|---|---|---|---|---|---|\n",
       "| 0                                         | 295665                                    | Macbook Pro Laptop                        | 1                                         | 1700.00                                   | 2019-12-30 00:01:00                       | 136 Church St, New York City, NY 10001    | 12                                        | 1700.00                                   |  New York City                            |  0                                        |\n",
       "| 1                                         | 295666                                    | LG Washing Machine                        | 1                                         |  600.00                                   | 2019-12-29 07:03:00                       | 562 2nd St, New York City, NY 10001       | 12                                        |  600.00                                   |  New York City                            |  7                                        |\n",
       "| 2                                         | 295667                                    | USB-C Charging Cable                      | 1                                         |   11.95                                   | 2019-12-12 18:21:00                       | 277 Main St, New York City, NY 10001      | 12                                        |   11.95                                   |  New York City                            | 18                                        |\n",
       "| 3                                         | 295668                                    | 27in FHD Monitor                          | 1                                         |  149.99                                   | 2019-12-22 15:13:00                       | 410 6th St, San Francisco, CA 94016       | 12                                        |  149.99                                   |  San Francisco                            | 15                                        |\n",
       "| 4                                         | 295669                                    | USB-C Charging Cable                      | 1                                         |   11.95                                   | 2019-12-18 12:38:00                       | 43 Hill St, Atlanta, GA 30301             | 12                                        |   11.95                                   |  Atlanta                                  | 12                                        |\n",
       "| 5                                         | 295670                                    | AA Batteries (4-pack)                     | 1                                         |    3.84                                   | 2019-12-31 22:58:00                       | 200 Jefferson St, New York City, NY 10001 | 12                                        |    3.84                                   |  New York City                            | 22                                        |\n",
       "\n"
      ],
      "text/plain": [
       "  X Order.ID Product               Quantity.Ordered Price.Each\n",
       "1 0 295665   Macbook Pro Laptop    1                1700.00   \n",
       "2 1 295666   LG Washing Machine    1                 600.00   \n",
       "3 2 295667   USB-C Charging Cable  1                  11.95   \n",
       "4 3 295668   27in FHD Monitor      1                 149.99   \n",
       "5 4 295669   USB-C Charging Cable  1                  11.95   \n",
       "6 5 295670   AA Batteries (4-pack) 1                   3.84   \n",
       "  Order.Date          Purchase.Address                          Month Sales  \n",
       "1 2019-12-30 00:01:00 136 Church St, New York City, NY 10001    12    1700.00\n",
       "2 2019-12-29 07:03:00 562 2nd St, New York City, NY 10001       12     600.00\n",
       "3 2019-12-12 18:21:00 277 Main St, New York City, NY 10001      12      11.95\n",
       "4 2019-12-22 15:13:00 410 6th St, San Francisco, CA 94016       12     149.99\n",
       "5 2019-12-18 12:38:00 43 Hill St, Atlanta, GA 30301             12      11.95\n",
       "6 2019-12-31 22:58:00 200 Jefferson St, New York City, NY 10001 12       3.84\n",
       "  City           Hour\n",
       "1  New York City  0  \n",
       "2  New York City  7  \n",
       "3  New York City 18  \n",
       "4  San Francisco 15  \n",
       "5  Atlanta       12  \n",
       "6  New York City 22  "
      ]
     },
     "metadata": {},
     "output_type": "display_data"
    }
   ],
   "source": [
    "data <- read.csv(\"Sales Data.csv\", header = TRUE, stringsAsFactors = FALSE)\n",
    "\n",
    "# View the first few rows\n",
    "head(data)"
   ]
  },
  {
   "cell_type": "code",
   "execution_count": 2,
   "id": "82e04306-4935-45df-a82e-e0d0176b06e6",
   "metadata": {},
   "outputs": [
    {
     "name": "stdout",
     "output_type": "stream",
     "text": [
      "[1] 193.3009\n"
     ]
    }
   ],
   "source": [
    "# Aggregate total sales by unique Order ID\n",
    "sales_by_order <- aggregate(data$Sales, by = list(OrderID = data$Order.ID), FUN = sum)\n",
    "\n",
    "# Rename the column for clarity\n",
    "colnames(sales_by_order) <- c(\"OrderID\", \"Total_Sales\")\n",
    "\n",
    "# Calculate the average sales per unique order\n",
    "avg_sales_per_order <- sum(sales_by_order$Total_Sales) / nrow(sales_by_order)\n",
    "\n",
    "# Print the result\n",
    "print(avg_sales_per_order)"
   ]
  }
 ],
 "metadata": {
  "kernelspec": {
   "display_name": "R",
   "language": "R",
   "name": "ir"
  },
  "language_info": {
   "codemirror_mode": "r",
   "file_extension": ".r",
   "mimetype": "text/x-r-source",
   "name": "R",
   "pygments_lexer": "r",
   "version": "3.6.1"
  }
 },
 "nbformat": 4,
 "nbformat_minor": 5
}
